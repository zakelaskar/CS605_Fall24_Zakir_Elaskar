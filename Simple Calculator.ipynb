{
 "cells": [
  {
   "cell_type": "code",
   "execution_count": 89,
   "id": "94cbe3c0-d7ae-430a-bed5-9dfeb9b85470",
   "metadata": {},
   "outputs": [
    {
     "name": "stdout",
     "output_type": "stream",
     "text": [
      "Welcome to Simple Calculator!\n"
     ]
    },
    {
     "name": "stdin",
     "output_type": "stream",
     "text": [
      "Enter first number 1\n",
      "Enter second number 1\n",
      "Select Operator : 1=Addition, 2=Subtraction, 3=Multiplication, 4=Division 1\n"
     ]
    },
    {
     "name": "stdout",
     "output_type": "stream",
     "text": [
      "2\n"
     ]
    },
    {
     "name": "stdin",
     "output_type": "stream",
     "text": [
      "Do you want to perform another calculation? (yes/no): yes\n",
      "Enter first number 1\n",
      "Enter second number 1\n",
      "Select Operator : 1=Addition, 2=Subtraction, 3=Multiplication, 4=Division 1\n"
     ]
    },
    {
     "name": "stdout",
     "output_type": "stream",
     "text": [
      "2\n"
     ]
    },
    {
     "name": "stdin",
     "output_type": "stream",
     "text": [
      "Do you want to perform another calculation? (yes/no): no\n"
     ]
    },
    {
     "name": "stdout",
     "output_type": "stream",
     "text": [
      "Goodbye!\n"
     ]
    }
   ],
   "source": [
    "print('Welcome to Simple Calculator!')\n",
    "\n",
    "def Calculator():\n",
    "    x = int(input('Enter first number'))\n",
    "    y = int(input('Enter second number'))\n",
    "\n",
    "    #Select Operator:\n",
    "    1 == x+y\n",
    "    2 == x-y\n",
    "    3 == x*y\n",
    "    4 == x/y\n",
    "    operator = int(input('Select Operator : 1=Addition, 2=Subtraction, 3=Multiplication, 4=Division'))\n",
    "    \n",
    "    if operator == 1:\n",
    "        print(x+y)\n",
    "    elif operator == 2:\n",
    "        print(x-y)\n",
    "    elif operator == 3:\n",
    "        print(x*y)\n",
    "    elif operator == 4:\n",
    "        print(x/y)\n",
    "    else:\n",
    "        return 'error'\n",
    "\n",
    "Calculator()\n",
    "\n",
    "for i in recalculate:\n",
    "    recalculate = input('Do you want to perform another calculation? (yes/no):')\n",
    "\n",
    "    \n",
    "    if recalculate == 'yes':\n",
    "        Calculator()\n",
    "    else:\n",
    "        recalculate == 'no'\n",
    "        print('Goodbye!')\n",
    "        break"
   ]
  },
  {
   "cell_type": "code",
   "execution_count": null,
   "id": "387c6f7c-829f-4c6e-b93f-0c7c7f7a5e9e",
   "metadata": {},
   "outputs": [],
   "source": []
  },
  {
   "cell_type": "code",
   "execution_count": null,
   "id": "a9680c07-f291-4315-bb78-29ad9021baf7",
   "metadata": {},
   "outputs": [],
   "source": [
    "\n"
   ]
  },
  {
   "cell_type": "code",
   "execution_count": null,
   "id": "9da4e41d-443c-4bbf-89c3-9aa9035b999a",
   "metadata": {},
   "outputs": [],
   "source": []
  },
  {
   "cell_type": "code",
   "execution_count": null,
   "id": "b4d85bec-f1c1-44d5-9d00-5c1a029863b4",
   "metadata": {},
   "outputs": [],
   "source": []
  },
  {
   "cell_type": "code",
   "execution_count": null,
   "id": "40c95b6e-aa34-4daa-b292-8294d9a9085f",
   "metadata": {},
   "outputs": [],
   "source": []
  }
 ],
 "metadata": {
  "kernelspec": {
   "display_name": "Python 3 (ipykernel)",
   "language": "python",
   "name": "python3"
  },
  "language_info": {
   "codemirror_mode": {
    "name": "ipython",
    "version": 3
   },
   "file_extension": ".py",
   "mimetype": "text/x-python",
   "name": "python",
   "nbconvert_exporter": "python",
   "pygments_lexer": "ipython3",
   "version": "3.11.5"
  }
 },
 "nbformat": 4,
 "nbformat_minor": 5
}
